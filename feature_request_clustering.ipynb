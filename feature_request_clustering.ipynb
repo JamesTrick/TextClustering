{
 "cells": [
  {
   "cell_type": "markdown",
   "metadata": {},
   "source": [
    "# Clustering Feature Requests into Common Requests"
   ]
  },
  {
   "cell_type": "markdown",
   "metadata": {},
   "source": [
    "The purpose of this notebook is to extract topics and label cases based on the newly found topics for the Feature Requests - Vague, general, unusual KA.\n",
    "\n",
    "It is believed that this KA will have recurring requests from different customers possibly enough to create a new specific KA or at least improve the Feature Request reporting.\n",
    "\n",
    "The outline of this notebook will be:\n",
    "* Import data using Pandas\n",
    "* Clean the data using regex, and NLTK (likely to be a seperate module at a later date)\n",
    "* TF-IDF the data\n",
    "* Optimise the number of the clusters\n",
    "* Run K-Means on the TF-IDF\n",
    "* Run K-Means on a Bigram version of the TF-IDF\n",
    "* Compare performance\n",
    "* Run Non-negative Matrix Factorisation on the data for Topic Extraction (mainly for a sanity check).\n",
    "\n",
    "Going forward, this code will be a single script with possibly a lite front-end for end users to be able to run it."
   ]
  },
  {
   "cell_type": "code",
   "execution_count": 1,
   "metadata": {
    "collapsed": true
   },
   "outputs": [],
   "source": [
    "import pandas as pd\n",
    "import numpy as np\n",
    "import matplotlib.pyplot as plt\n",
    "import pprint\n",
    "import nltk\n",
    "import re\n",
    "\n",
    "from nltk.tokenize import word_tokenize\n",
    "from nltk.corpus import stopwords\n",
    "from nltk.stem.snowball import SnowballStemmer\n",
    "from sklearn.feature_extraction.text import TfidfVectorizer\n",
    "from sklearn.cluster import KMeans\n",
    "from sklearn.model_selection import train_test_split\n",
    "\n",
    "% matplotlib inline"
   ]
  },
  {
   "cell_type": "markdown",
   "metadata": {},
   "source": [
    "## Import and clean data"
   ]
  },
  {
   "cell_type": "code",
   "execution_count": 2,
   "metadata": {},
   "outputs": [
    {
     "data": {
      "text/html": [
       "<div>\n",
       "<style scoped>\n",
       "    .dataframe tbody tr th:only-of-type {\n",
       "        vertical-align: middle;\n",
       "    }\n",
       "\n",
       "    .dataframe tbody tr th {\n",
       "        vertical-align: top;\n",
       "    }\n",
       "\n",
       "    .dataframe thead th {\n",
       "        text-align: right;\n",
       "    }\n",
       "</style>\n",
       "<table border=\"1\" class=\"dataframe\">\n",
       "  <thead>\n",
       "    <tr style=\"text-align: right;\">\n",
       "      <th></th>\n",
       "      <th>subject</th>\n",
       "      <th>description</th>\n",
       "    </tr>\n",
       "  </thead>\n",
       "  <tbody>\n",
       "    <tr>\n",
       "      <th>0</th>\n",
       "      <td>Edit bank statement</td>\n",
       "      <td>Hi Team,\\n\\nI need a healp please call me on t...</td>\n",
       "    </tr>\n",
       "    <tr>\n",
       "      <th>1</th>\n",
       "      <td>Link a foreign supplier to a foreign currency ...</td>\n",
       "      <td>Hi \\n\\nWe have foreign supplier settle with di...</td>\n",
       "    </tr>\n",
       "    <tr>\n",
       "      <th>2</th>\n",
       "      <td>Edit User's Email Address?</td>\n",
       "      <td>Good afternoon,\\n\\nIs there a way to edit a us...</td>\n",
       "    </tr>\n",
       "    <tr>\n",
       "      <th>3</th>\n",
       "      <td>Allow only 3ds in stripe integration</td>\n",
       "      <td>Stripe informed Xero need to change Stripe int...</td>\n",
       "    </tr>\n",
       "    <tr>\n",
       "      <th>4</th>\n",
       "      <td>Vigilant Technologies</td>\n",
       "      <td>Hi Support,\\n\\nPlease advise on the following:...</td>\n",
       "    </tr>\n",
       "  </tbody>\n",
       "</table>\n",
       "</div>"
      ],
      "text/plain": [
       "                                             subject  \\\n",
       "0                                Edit bank statement   \n",
       "1  Link a foreign supplier to a foreign currency ...   \n",
       "2                         Edit User's Email Address?   \n",
       "3               Allow only 3ds in stripe integration   \n",
       "4                              Vigilant Technologies   \n",
       "\n",
       "                                         description  \n",
       "0  Hi Team,\\n\\nI need a healp please call me on t...  \n",
       "1  Hi \\n\\nWe have foreign supplier settle with di...  \n",
       "2  Good afternoon,\\n\\nIs there a way to edit a us...  \n",
       "3  Stripe informed Xero need to change Stripe int...  \n",
       "4  Hi Support,\\n\\nPlease advise on the following:...  "
      ]
     },
     "execution_count": 2,
     "metadata": {},
     "output_type": "execute_result"
    }
   ],
   "source": [
    "data = pd.read_csv('./data/feature_export.csv', usecols=[2,3],\n",
    "                  names=['subject', 'description'],\n",
    "                  header=0,\n",
    "                  encoding='utf-8')\n",
    "\n",
    "data = data.fillna('empty')\n",
    "data.head()"
   ]
  },
  {
   "cell_type": "code",
   "execution_count": 46,
   "metadata": {},
   "outputs": [
    {
     "data": {
      "text/plain": [
       "'\\nprint \"Example case we want to clean:\"\\nprint\\nprint \\nprint data.iloc[2][\\'description\\']\\n\\n'"
      ]
     },
     "execution_count": 46,
     "metadata": {},
     "output_type": "execute_result"
    }
   ],
   "source": [
    "# Output blocked for github.\n",
    "\"\"\"\n",
    "print \"Example case we want to clean:\"\n",
    "print\n",
    "print \n",
    "print data.iloc[2]['description']\n",
    "\n",
    "\"\"\""
   ]
  },
  {
   "cell_type": "code",
   "execution_count": 249,
   "metadata": {
    "collapsed": true
   },
   "outputs": [],
   "source": [
    "data['description'] = data['description'].str.replace(r'([a-z0-9_\\.-]+)@([\\da-z\\.-]+)\\.([a-z\\.]{2,6})', '') # Removes emails"
   ]
  },
  {
   "cell_type": "code",
   "execution_count": 250,
   "metadata": {
    "collapsed": true
   },
   "outputs": [],
   "source": [
    "data['description'] = data['description'].str.replace(r'<(.*?)\\>', '') # removes contents between <> tags, eg html"
   ]
  },
  {
   "cell_type": "code",
   "execution_count": null,
   "metadata": {
    "collapsed": true
   },
   "outputs": [],
   "source": [
    "data['description'] = data['description'].str.replace(r'\\[(.*?)\\]', '') # removes stuff between square brackets"
   ]
  },
  {
   "cell_type": "code",
   "execution_count": 251,
   "metadata": {
    "collapsed": true
   },
   "outputs": [],
   "source": [
    "data['description'] = data['description'].str.replace(r'[^\\w\\s]', '') "
   ]
  },
  {
   "cell_type": "code",
   "execution_count": 252,
   "metadata": {
    "collapsed": true
   },
   "outputs": [],
   "source": [
    "data['description'] = data['description'].str.replace(r'www[a-z]+', '')"
   ]
  },
  {
   "cell_type": "code",
   "execution_count": 253,
   "metadata": {
    "collapsed": true
   },
   "outputs": [],
   "source": [
    "data['description'] = data['description'].str.replace(r'http[a-z]+', '')"
   ]
  },
  {
   "cell_type": "code",
   "execution_count": 254,
   "metadata": {
    "collapsed": true
   },
   "outputs": [],
   "source": [
    "data['description'] = data['description'].str.replace(r'https[a-z]+', '')"
   ]
  },
  {
   "cell_type": "code",
   "execution_count": 255,
   "metadata": {
    "collapsed": true
   },
   "outputs": [],
   "source": [
    "data['description'] = data['description'].str.replace(r'supportxerocom', '')"
   ]
  },
  {
   "cell_type": "code",
   "execution_count": 256,
   "metadata": {
    "collapsed": true
   },
   "outputs": [],
   "source": [
    "data['description'] = data['description'].str.replace(r'\\d', '') # removes numbers eg phone numbers"
   ]
  },
  {
   "cell_type": "code",
   "execution_count": 257,
   "metadata": {
    "collapsed": true
   },
   "outputs": [],
   "source": [
    "data['description'] = data['description'].str.lower().str.split()"
   ]
  },
  {
   "cell_type": "code",
   "execution_count": 259,
   "metadata": {
    "collapsed": true
   },
   "outputs": [],
   "source": [
    "# Remove stopwords from text using NLTK.\n",
    "stop = stopwords.words('english')\n",
    "stop.append('hello')\n",
    "stop.append('hi')\n",
    "stop.append('dear')\n",
    "stop.append('sir')\n",
    "stop.append('sirs')\n",
    "stop.append('thank')\n",
    "stop.append('facebook')\n",
    "stop.append('twitter')\n",
    "stop.append('linkedin') # Newly added"
   ]
  },
  {
   "cell_type": "code",
   "execution_count": 260,
   "metadata": {
    "collapsed": true
   },
   "outputs": [],
   "source": [
    "data['description'] = data['description'].apply(lambda x: [item for item in x if item not in stop])"
   ]
  },
  {
   "cell_type": "code",
   "execution_count": 258,
   "metadata": {
    "collapsed": true
   },
   "outputs": [],
   "source": [
    "# Stem words for better model performance\n",
    "stemmer = SnowballStemmer(\"english\")\n",
    "data['description'] = data['description'].apply(lambda x: [stemmer.stem(y) for y in x])"
   ]
  },
  {
   "cell_type": "code",
   "execution_count": 261,
   "metadata": {},
   "outputs": [
    {
     "name": "stdout",
     "output_type": "stream",
     "text": [
      "[u'good', u'afternoon', u'way', u'edit', u'user', u'email', u'address', u'realiz', u'delet', u'readd', u'dont', u'want', u'go', u'hassl', u'edit', u'sincer', u'heather', u'coti', u'event', u'coordin', u'hr', u'social', u'media', u'product', u'ambassador', u'ex', u'like', u'us', u'follow', u'us', u'sign', u'newslett', u'join', u'us', u'culinari', u'tour', u'itali']\n"
     ]
    }
   ],
   "source": [
    "print data.iloc[2]['description']"
   ]
  },
  {
   "cell_type": "code",
   "execution_count": 262,
   "metadata": {
    "collapsed": true
   },
   "outputs": [],
   "source": [
    "#data.to_csv('./data/cleaned_feature.csv',\n",
    "#           encoding='utf-8')"
   ]
  },
  {
   "cell_type": "code",
   "execution_count": 3,
   "metadata": {},
   "outputs": [
    {
     "data": {
      "text/html": [
       "<div>\n",
       "<style scoped>\n",
       "    .dataframe tbody tr th:only-of-type {\n",
       "        vertical-align: middle;\n",
       "    }\n",
       "\n",
       "    .dataframe tbody tr th {\n",
       "        vertical-align: top;\n",
       "    }\n",
       "\n",
       "    .dataframe thead th {\n",
       "        text-align: right;\n",
       "    }\n",
       "</style>\n",
       "<table border=\"1\" class=\"dataframe\">\n",
       "  <thead>\n",
       "    <tr style=\"text-align: right;\">\n",
       "      <th></th>\n",
       "      <th>description</th>\n",
       "    </tr>\n",
       "  </thead>\n",
       "  <tbody>\n",
       "    <tr>\n",
       "      <th>0</th>\n",
       "      <td>team need healp pleas call</td>\n",
       "    </tr>\n",
       "    <tr>\n",
       "      <th>1</th>\n",
       "      <td>foreign supplier settl differ foreign currenc ...</td>\n",
       "    </tr>\n",
       "    <tr>\n",
       "      <th>2</th>\n",
       "      <td>good afternoon way edit user email address rea...</td>\n",
       "    </tr>\n",
       "    <tr>\n",
       "      <th>3</th>\n",
       "      <td>stripe inform xero need chang stripe integr on...</td>\n",
       "    </tr>\n",
       "    <tr>\n",
       "      <th>4</th>\n",
       "      <td>support pleas advis follow tri connect dbs dir...</td>\n",
       "    </tr>\n",
       "  </tbody>\n",
       "</table>\n",
       "</div>"
      ],
      "text/plain": [
       "                                         description\n",
       "0                         team need healp pleas call\n",
       "1  foreign supplier settl differ foreign currenc ...\n",
       "2  good afternoon way edit user email address rea...\n",
       "3  stripe inform xero need chang stripe integr on...\n",
       "4  support pleas advis follow tri connect dbs dir..."
      ]
     },
     "execution_count": 3,
     "metadata": {},
     "output_type": "execute_result"
    }
   ],
   "source": [
    "cleaned = pd.read_csv('./data/final_feature.csv', usecols=[1],\n",
    "                     header=0)\n",
    "\n",
    "cleaned = cleaned.fillna('empty')\n",
    "\n",
    "cleaned.head()"
   ]
  },
  {
   "cell_type": "code",
   "execution_count": 4,
   "metadata": {
    "collapsed": true
   },
   "outputs": [],
   "source": [
    "#train, test = train_test_split(cleaned, test_size=0.1)\n",
    "#test.to_csv('test_data.csv')"
   ]
  },
  {
   "cell_type": "markdown",
   "metadata": {},
   "source": [
    "# K-Means Clustering"
   ]
  },
  {
   "cell_type": "code",
   "execution_count": 104,
   "metadata": {},
   "outputs": [],
   "source": [
    "# Setup Vector\n",
    "vectorizer = TfidfVectorizer(max_df=0.9,\n",
    "                            min_df=0.001)\n",
    "X = vectorizer.fit_transform(cleaned['description'])"
   ]
  },
  {
   "cell_type": "code",
   "execution_count": 105,
   "metadata": {},
   "outputs": [
    {
     "data": {
      "text/plain": [
       "(2380, 2255)"
      ]
     },
     "execution_count": 105,
     "metadata": {},
     "output_type": "execute_result"
    }
   ],
   "source": [
    "X.shape"
   ]
  },
  {
   "cell_type": "markdown",
   "metadata": {},
   "source": [
    "Even by setting min_df=2 we drop the # of features from 13,000 to 3117. This saves on a lot of text cleaning."
   ]
  },
  {
   "cell_type": "code",
   "execution_count": 114,
   "metadata": {},
   "outputs": [
    {
     "data": {
      "text/plain": [
       "KMeans(algorithm='auto', copy_x=True, init='k-means++', max_iter=300,\n",
       "    n_clusters=20, n_init=10, n_jobs=1, precompute_distances='auto',\n",
       "    random_state=None, tol=0.0001, verbose=0)"
      ]
     },
     "execution_count": 114,
     "metadata": {},
     "output_type": "execute_result"
    }
   ],
   "source": [
    "true_k = 20 ## Initially set to 8, optimise later in script. Play around with clusters at later stage\n",
    "model = KMeans(n_clusters=true_k,\n",
    "               init='k-means++',\n",
    "               max_iter=300)\n",
    "model.fit(X)"
   ]
  },
  {
   "cell_type": "code",
   "execution_count": 122,
   "metadata": {},
   "outputs": [
    {
     "name": "stdout",
     "output_type": "stream",
     "text": [
      "Top terms per cluster:\n",
      "Cluster 0:  colour  ui  chang  save  pdf  terribl  differ  font  confus  like\n",
      "Cluster 1:  imag  inlin  account  xero  email  mobil  pleas  show  instagram  manag\n",
      "Cluster 2:  email  address  send  invoic  quot  xero  contact  custom  copi  sent\n",
      "Cluster 3:  item  line  inventori  code  price  invoic  cost  way  sale  abl\n",
      "Cluster 4:  xero  account  would  regard  use  like  pleas  possibl  way  need\n",
      "Cluster 5:  payment  batch  invoic  bill  bank  account  supplier  await  way  creat\n",
      "Cluster 6:  balanc  statement  bank  show  sheet  account  credit  need  xero  import\n",
      "Cluster 7:  client  xero  would  way  invoic  list  ani  account  need  use\n",
      "Cluster 8:  year  month  end  report  account  last  xero  financi  want  current\n",
      "Cluster 9:  transact  bank  account  reconcil  rule  feed  code  see  xero  import\n",
      "Cluster 10:  file  export  xero  import  csv  upload  attach  way  pdf  direct\n",
      "Cluster 11:  email  ani  intend  messag  confidenti  inform  recipi  may  pleas  copi\n",
      "Cluster 12:  custom  invoic  send  would  way  xero  creat  possibl  expens  assign\n",
      "Cluster 13:  field  descript  refer  invoic  type  add  number  contact  possibl  creat\n",
      "Cluster 14:  approv  invoic  draft  select  button  bill  would  creat  save  paid\n",
      "Cluster 15:  version  app  iphon  model  os  languag  usernam  ui  organis  name\n",
      "Cluster 16:  report  run  show  get  custom  way  would  month  xero  invoic\n",
      "Cluster 17:  order  purchas  invoic  bill  number  supplier  sale  xero  way  alphabet\n",
      "Cluster 18:  date  invoic  enter  due  month  select  transact  chang  bill  xero\n",
      "Cluster 19:  invoic  way  sale  xero  number  quot  would  templat  client  use\n",
      "\n",
      "\n",
      "Prediction\n",
      "[4]\n",
      "[9]\n",
      "[16]\n"
     ]
    }
   ],
   "source": [
    "print(\"Top terms per cluster:\")\n",
    "order_centroids = model.cluster_centers_.argsort()[:, ::-1]\n",
    "terms = vectorizer.get_feature_names()\n",
    "for i in range(true_k):\n",
    "    print(\"Cluster %d:\" % i),\n",
    "    for ind in order_centroids[i, :10]:\n",
    "        print(' %s' % terms[ind]),\n",
    "    print\n",
    "\n",
    "print(\"\\n\")\n",
    "print(\"Prediction\")\n",
    "\n",
    "Y = vectorizer.transform([\"I want my invoice to show a bigger logo\"])\n",
    "prediction = model.predict(Y)\n",
    "print(prediction)\n",
    "\n",
    "Y = vectorizer.transform([\"bank transaction doesn't have abiliy to edit\"])\n",
    "prediction = model.predict(Y)\n",
    "print(prediction)\n",
    "\n",
    "Y = vectorizer.transform([\"report with custom running balance\"])\n",
    "prediction = model.predict(Y)\n",
    "print(prediction)"
   ]
  },
  {
   "cell_type": "code",
   "execution_count": 123,
   "metadata": {},
   "outputs": [
    {
     "data": {
      "text/plain": [
       "array([ 4,  4,  4, ..., 10, 18,  4])"
      ]
     },
     "execution_count": 123,
     "metadata": {},
     "output_type": "execute_result"
    }
   ],
   "source": [
    "k_means_labels = model.labels_\n",
    "k_means_labels"
   ]
  },
  {
   "cell_type": "code",
   "execution_count": 124,
   "metadata": {},
   "outputs": [
    {
     "data": {
      "text/plain": [
       "{0: 32,\n",
       " 1: 36,\n",
       " 2: 88,\n",
       " 3: 75,\n",
       " 4: 613,\n",
       " 5: 87,\n",
       " 6: 64,\n",
       " 7: 115,\n",
       " 8: 67,\n",
       " 9: 162,\n",
       " 10: 86,\n",
       " 11: 174,\n",
       " 12: 101,\n",
       " 13: 66,\n",
       " 14: 54,\n",
       " 15: 39,\n",
       " 16: 175,\n",
       " 17: 67,\n",
       " 18: 82,\n",
       " 19: 197}"
      ]
     },
     "execution_count": 124,
     "metadata": {},
     "output_type": "execute_result"
    }
   ],
   "source": [
    "unique, counts = np.unique(k_means_labels, return_counts=True)\n",
    "dict(zip(unique, counts))"
   ]
  },
  {
   "cell_type": "code",
   "execution_count": 125,
   "metadata": {},
   "outputs": [
    {
     "data": {
      "image/png": "[encoded data removed]",
      "text/plain": [
       "<matplotlib.figure.Figure at 0x222637f0>"
      ]
     },
     "metadata": {},
     "output_type": "display_data"
    }
   ],
   "source": [
    "plt.pie(counts, labels=unique)\n",
    "plt.title('Counts of Clusters')\n",
    "plt.show()"
   ]
  },
  {
   "cell_type": "code",
   "execution_count": 127,
   "metadata": {
    "collapsed": true
   },
   "outputs": [],
   "source": [
    "data['labels'] = k_means_labels\n",
    "data.to_csv('labelled.csv', encoding='utf-8')"
   ]
  },
  {
   "cell_type": "markdown",
   "metadata": {},
   "source": [
    "# Optimising the number of clusters\n",
    "\n",
    "For a metric, we're going to be using the Silhouette score. As time was contstained building this model, I didn't get a chance to build a custom metric, but the Silhouette score is the closest 'out of the box' metric I could find to the metric I was designing.\n",
    "\n",
    "With KMeans, the only real parameter we have to specify is the number of clusters.\n",
    "\n",
    "However, as found sudy by KTH, the feature selection and parameters used in the TF-IDF vectoriser play a large role in the overall success of the model."
   ]
  },
  {
   "cell_type": "code",
   "execution_count": 120,
   "metadata": {
    "collapsed": true
   },
   "outputs": [],
   "source": [
    "from sklearn.metrics import silhouette_score"
   ]
  },
  {
   "cell_type": "code",
   "execution_count": 121,
   "metadata": {},
   "outputs": [
    {
     "name": "stdout",
     "output_type": "stream",
     "text": [
      "0.0176393210488\n"
     ]
    }
   ],
   "source": [
    "print silhouette_score(X, k_means_labels)"
   ]
  },
  {
   "cell_type": "code",
   "execution_count": 113,
   "metadata": {},
   "outputs": [
    {
     "name": "stdout",
     "output_type": "stream",
     "text": [
      "('For n_clusters =', 8, 'The average silhouette_score is :', 0.013526861827847516)\n",
      "('For n_clusters =', 10, 'The average silhouette_score is :', 0.01455255726234924)\n",
      "('For n_clusters =', 15, 'The average silhouette_score is :', 0.017415771370477708)\n",
      "('For n_clusters =', 20, 'The average silhouette_score is :', 0.020319729704520059)\n",
      "('For n_clusters =', 25, 'The average silhouette_score is :', 0.020040299450331665)\n",
      "('For n_clusters =', 30, 'The average silhouette_score is :', 0.017280343829740235)\n",
      "('For n_clusters =', 35, 'The average silhouette_score is :', 0.0189879407448619)\n",
      "('For n_clusters =', 40, 'The average silhouette_score is :', 0.021092185193073407)\n",
      "('For n_clusters =', 45, 'The average silhouette_score is :', 0.017997325621287349)\n"
     ]
    }
   ],
   "source": [
    "range_n_clusters = [8,10,15,20,25,30,35,40,45]\n",
    "\n",
    "for n_clusters in range_n_clusters:\n",
    "    clusterer = KMeans(n_clusters=n_clusters, random_state=10)\n",
    "    cluster_labels = clusterer.fit_predict(X)\n",
    "    \n",
    "    silhouette_avg = silhouette_score(X, cluster_labels)\n",
    "    print(\"For n_clusters =\", n_clusters,\n",
    "          \"The average silhouette_score is :\", silhouette_avg)"
   ]
  },
  {
   "cell_type": "markdown",
   "metadata": {},
   "source": [
    "# K-Means Clustering with Bigrams"
   ]
  },
  {
   "cell_type": "code",
   "execution_count": 147,
   "metadata": {},
   "outputs": [],
   "source": [
    "# Setup Vector\n",
    "bi_vectorizer = TfidfVectorizer(max_df=0.9,\n",
    "                            min_df=0.001,\n",
    "                            ngram_range=(1, 2))\n",
    "X_bigram = bi_vectorizer.fit_transform(cleaned['description'])"
   ]
  },
  {
   "cell_type": "code",
   "execution_count": 148,
   "metadata": {},
   "outputs": [
    {
     "name": "stdout",
     "output_type": "stream",
     "text": [
      "('For n_clusters =', 8, 'The average silhouette_score is :', 0.01127503987252519)\n",
      "('For n_clusters =', 10, 'The average silhouette_score is :', 0.011834285615702296)\n",
      "('For n_clusters =', 15, 'The average silhouette_score is :', 0.012785695430088456)\n",
      "('For n_clusters =', 20, 'The average silhouette_score is :', 0.014682359319775795)\n",
      "('For n_clusters =', 25, 'The average silhouette_score is :', 0.015072953686658537)\n",
      "('For n_clusters =', 30, 'The average silhouette_score is :', 0.012547086425126365)\n",
      "('For n_clusters =', 35, 'The average silhouette_score is :', 0.014066093317359961)\n",
      "('For n_clusters =', 40, 'The average silhouette_score is :', 0.01422715657261564)\n",
      "('For n_clusters =', 45, 'The average silhouette_score is :', 0.01359711140660798)\n"
     ]
    }
   ],
   "source": [
    "range_n_clusters = [8,10,15,20,25,30,35,40,45]\n",
    "\n",
    "for n_clusters in range_n_clusters:\n",
    "    clusterer = KMeans(n_clusters=n_clusters, random_state=10)\n",
    "    cluster_labels = clusterer.fit_predict(X_bigram)\n",
    "    \n",
    "    silhouette_avg = silhouette_score(X_bigram, cluster_labels)\n",
    "    print(\"For n_clusters =\", n_clusters,\n",
    "          \"The average silhouette_score is :\", silhouette_avg)"
   ]
  },
  {
   "cell_type": "markdown",
   "metadata": {},
   "source": [
    "From this, we can conclude that the Tf-idf vector on single words has a better model performance than that of the bigram vector across all cluster sixes. This is unexpected and contrary to the Academic paper I read.\n",
    "\n",
    "It interesting and pleasing that the highest Silhouette score for both models is at the 20 Cluster size."
   ]
  },
  {
   "cell_type": "markdown",
   "metadata": {},
   "source": [
    "# Hierarchical Clustering"
   ]
  },
  {
   "cell_type": "code",
   "execution_count": 11,
   "metadata": {
    "collapsed": true
   },
   "outputs": [],
   "source": [
    "from sklearn.cluster import AgglomerativeClustering"
   ]
  },
  {
   "cell_type": "code",
   "execution_count": 12,
   "metadata": {
    "collapsed": true
   },
   "outputs": [],
   "source": [
    "clustering = AgglomerativeClustering(linkage='ward', n_clusters=30)"
   ]
  },
  {
   "cell_type": "code",
   "execution_count": 13,
   "metadata": {
    "collapsed": true
   },
   "outputs": [],
   "source": [
    "result_clustering = clustering.fit(X.toarray())"
   ]
  },
  {
   "cell_type": "code",
   "execution_count": 14,
   "metadata": {
    "collapsed": true
   },
   "outputs": [],
   "source": [
    "cluster_labels = clustering.labels_"
   ]
  },
  {
   "cell_type": "code",
   "execution_count": 15,
   "metadata": {},
   "outputs": [
    {
     "data": {
      "text/plain": [
       "array([ 4, 26,  4, ...,  3,  4,  4], dtype=int64)"
      ]
     },
     "execution_count": 15,
     "metadata": {},
     "output_type": "execute_result"
    }
   ],
   "source": [
    "cluster_labels"
   ]
  },
  {
   "cell_type": "code",
   "execution_count": 16,
   "metadata": {},
   "outputs": [
    {
     "data": {
      "text/plain": [
       "{0: 195,\n",
       " 1: 40,\n",
       " 2: 18,\n",
       " 3: 65,\n",
       " 4: 927,\n",
       " 5: 44,\n",
       " 6: 119,\n",
       " 7: 43,\n",
       " 8: 41,\n",
       " 9: 42,\n",
       " 10: 157,\n",
       " 11: 27,\n",
       " 12: 38,\n",
       " 13: 65,\n",
       " 14: 36,\n",
       " 15: 17,\n",
       " 16: 145,\n",
       " 17: 19,\n",
       " 18: 19,\n",
       " 19: 15,\n",
       " 20: 25,\n",
       " 21: 14,\n",
       " 22: 59,\n",
       " 23: 14,\n",
       " 24: 25,\n",
       " 25: 22,\n",
       " 26: 35,\n",
       " 27: 31,\n",
       " 28: 66,\n",
       " 29: 17}"
      ]
     },
     "execution_count": 16,
     "metadata": {},
     "output_type": "execute_result"
    }
   ],
   "source": [
    "unique, counts = np.unique(cluster_labels, return_counts=True)\n",
    "dict(zip(unique, counts))"
   ]
  },
  {
   "cell_type": "code",
   "execution_count": 17,
   "metadata": {},
   "outputs": [
    {
     "data": {
      "image/png": "[encoded data removed]",
      "text/plain": [
       "<matplotlib.figure.Figure at 0x1f000668>"
      ]
     },
     "metadata": {},
     "output_type": "display_data"
    }
   ],
   "source": [
    "plt.pie(counts, labels=unique)\n",
    "plt.title('Counts of Clusters')\n",
    "plt.show()"
   ]
  },
  {
   "cell_type": "code",
   "execution_count": 31,
   "metadata": {},
   "outputs": [
    {
     "data": {
      "text/plain": [
       "array([ 4, 26,  4, ...,  3,  4,  4], dtype=int64)"
      ]
     },
     "execution_count": 31,
     "metadata": {},
     "output_type": "execute_result"
    }
   ],
   "source": [
    "aggo_feature_names = clustering.labels_\n",
    "aggo_feature_names"
   ]
  },
  {
   "cell_type": "markdown",
   "metadata": {
    "collapsed": true
   },
   "source": [
    "# Non-negative Matrix Factorisation"
   ]
  },
  {
   "cell_type": "markdown",
   "metadata": {},
   "source": [
    "The data in the form of a TF-IDF vector is naturally non-negative as it's essentially just the word frequencies in Cases."
   ]
  },
  {
   "cell_type": "code",
   "execution_count": 137,
   "metadata": {
    "collapsed": true
   },
   "outputs": [],
   "source": [
    "from sklearn.decomposition import NMF"
   ]
  },
  {
   "cell_type": "code",
   "execution_count": 138,
   "metadata": {
    "collapsed": true
   },
   "outputs": [],
   "source": [
    "def display_topics(model, feature_names, top_words):\n",
    "    \"\"\"\n",
    "    Function to print the top words of a given topic given a model\n",
    "    \"\"\"\n",
    "    for topic_idx, topic in enumerate(model.components_):\n",
    "        print \"Topic %d:\" % (topic_idx)\n",
    "        print \" \".join([feature_names[i]\n",
    "                        for i in topic.argsort()[:-top_words - 1:-1]])"
   ]
  },
  {
   "cell_type": "code",
   "execution_count": 159,
   "metadata": {
    "collapsed": true
   },
   "outputs": [],
   "source": [
    "nmf = NMF(n_components= 8,\n",
    "          alpha=0.1)"
   ]
  },
  {
   "cell_type": "code",
   "execution_count": 160,
   "metadata": {},
   "outputs": [
    {
     "data": {
      "text/plain": [
       "NMF(alpha=0.1, beta_loss='frobenius', init=None, l1_ratio=0.0, max_iter=200,\n",
       "  n_components=8, random_state=None, shuffle=False, solver='cd',\n",
       "  tol=0.0001, verbose=0)"
      ]
     },
     "execution_count": 160,
     "metadata": {},
     "output_type": "execute_result"
    }
   ],
   "source": [
    "nmf.fit(X)"
   ]
  },
  {
   "cell_type": "code",
   "execution_count": 161,
   "metadata": {
    "scrolled": true
   },
   "outputs": [
    {
     "name": "stdout",
     "output_type": "stream",
     "text": [
      "Topic 0:\n",
      "bank account transact bank account reconcil payment code feed bank feed rule statement balanc import bank statement expens\n",
      "Topic 1:\n",
      "email ani intend messag inform confidenti recipi may pleas attach copi intend recipi contain receiv error\n",
      "Topic 2:\n",
      "invoic custom payment sale way sale invoic date send creat number quot line one email paid\n",
      "Topic 3:\n",
      "version app iphon ui os version ui languag app version os model organis name languag usernam usernam organis organis version ui\n",
      "Topic 4:\n",
      "report show run month date report show balanc run report get budget year includ total period report run\n",
      "Topic 5:\n",
      "xero client regard file imag user support pleas kind kind regard use account need want access\n",
      "Topic 6:\n",
      "order purchas purchas order bill item supplier number price way order number inventori sale alphabet deliveri alphabet order\n",
      "Topic 7:\n",
      "would like would like possibl add abl like abl item custom field column featur like add like know great\n"
     ]
    }
   ],
   "source": [
    "tfidf_feature_names = vectorizer.get_feature_names()\n",
    "display_topics(nmf, tfidf_feature_names, top_words=15)"
   ]
  },
  {
   "cell_type": "code",
   "execution_count": 162,
   "metadata": {},
   "outputs": [
    {
     "data": {
      "text/plain": [
       "NMF(alpha=0.1, beta_loss='frobenius', init=None, l1_ratio=0.0, max_iter=200,\n",
       "  n_components=8, random_state=None, shuffle=False, solver='cd',\n",
       "  tol=0.0001, verbose=0)"
      ]
     },
     "execution_count": 162,
     "metadata": {},
     "output_type": "execute_result"
    }
   ],
   "source": [
    "nmf_bigram = NMF(n_components=8,\n",
    "                alpha=0.1)\n",
    "nmf_bigram.fit(X_bigram)"
   ]
  },
  {
   "cell_type": "code",
   "execution_count": 163,
   "metadata": {},
   "outputs": [
    {
     "name": "stdout",
     "output_type": "stream",
     "text": [
      "Topic 0:\n",
      "bank account transact bank account reconcil payment code feed bank feed rule statement balanc import bank statement expens\n",
      "Topic 1:\n",
      "email ani intend messag inform confidenti recipi may pleas attach copi intend recipi contain receiv error\n",
      "Topic 2:\n",
      "invoic custom payment sale way sale invoic date send creat number quot line one email paid\n",
      "Topic 3:\n",
      "version app iphon ui os version ui languag app version os model organis name languag usernam usernam organis organis version ui\n",
      "Topic 4:\n",
      "report show run month date report show balanc run report get budget year includ total period report run\n",
      "Topic 5:\n",
      "xero client regard file imag user support pleas kind kind regard use account need want access\n",
      "Topic 6:\n",
      "order purchas purchas order bill item supplier number price way order number inventori sale alphabet deliveri alphabet order\n",
      "Topic 7:\n",
      "would like would like possibl add abl like abl custom item field column featur like add like know great\n"
     ]
    }
   ],
   "source": [
    "bigram_feature_names = bi_vectorizer.get_feature_names()\n",
    "display_topics(nmf_bigram, bigram_feature_names, top_words=15)"
   ]
  },
  {
   "cell_type": "code",
   "execution_count": null,
   "metadata": {
    "collapsed": true
   },
   "outputs": [],
   "source": []
  }
 ],
 "metadata": {
  "kernelspec": {
   "display_name": "Python 2",
   "language": "python",
   "name": "python2"
  },
  "language_info": {
   "codemirror_mode": {
    "name": "ipython",
    "version": 2
   },
   "file_extension": ".py",
   "mimetype": "text/x-python",
   "name": "python",
   "nbconvert_exporter": "python",
   "pygments_lexer": "ipython2",
   "version": "2.7.14"
  }
 },
 "nbformat": 4,
 "nbformat_minor": 2
}
