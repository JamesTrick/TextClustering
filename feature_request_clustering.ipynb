{
 "cells": [
  {
   "cell_type": "markdown",
   "metadata": {},
   "source": [
    "# Clustering Feature Requests into Common Requests"
   ]
  },
  {
   "cell_type": "code",
   "execution_count": 45,
   "metadata": {
    "collapsed": true
   },
   "outputs": [],
   "source": [
    "import pandas as pd\n",
    "import numpy as np\n",
    "import matplotlib.pyplot as plt\n",
    "import pprint\n",
    "import nltk\n",
    "import re\n",
    "\n",
    "from nltk.collocations import *\n",
    "from nltk.tokenize import word_tokenize\n",
    "from sklearn.feature_extraction.text import TfidfVectorizer\n",
    "from sklearn.cluster import KMeans\n",
    "from sklearn.metrics import adjusted_rand_score\n",
    "from nltk.corpus import stopwords\n",
    "from nltk.stem.snowball import SnowballStemmer\n",
    "\n",
    "% matplotlib inline"
   ]
  },
  {
   "cell_type": "markdown",
   "metadata": {},
   "source": [
    "## Import and clean data"
   ]
  },
  {
   "cell_type": "code",
   "execution_count": 246,
   "metadata": {},
   "outputs": [
    {
     "data": {
      "text/html": [
       "<div>\n",
       "<style scoped>\n",
       "    .dataframe tbody tr th:only-of-type {\n",
       "        vertical-align: middle;\n",
       "    }\n",
       "\n",
       "    .dataframe tbody tr th {\n",
       "        vertical-align: top;\n",
       "    }\n",
       "\n",
       "    .dataframe thead th {\n",
       "        text-align: right;\n",
       "    }\n",
       "</style>\n",
       "<table border=\"1\" class=\"dataframe\">\n",
       "  <thead>\n",
       "    <tr style=\"text-align: right;\">\n",
       "      <th></th>\n",
       "      <th>subject</th>\n",
       "      <th>description</th>\n",
       "    </tr>\n",
       "  </thead>\n",
       "  <tbody>\n",
       "    <tr>\n",
       "      <th>0</th>\n",
       "      <td>Edit bank statement</td>\n",
       "      <td>Hi Team,\\n\\nI need a healp please call me on t...</td>\n",
       "    </tr>\n",
       "    <tr>\n",
       "      <th>1</th>\n",
       "      <td>Link a foreign supplier to a foreign currency ...</td>\n",
       "      <td>Hi \\n\\nWe have foreign supplier settle with di...</td>\n",
       "    </tr>\n",
       "    <tr>\n",
       "      <th>2</th>\n",
       "      <td>Edit User's Email Address?</td>\n",
       "      <td>Good afternoon,\\n\\nIs there a way to edit a us...</td>\n",
       "    </tr>\n",
       "    <tr>\n",
       "      <th>3</th>\n",
       "      <td>Allow only 3ds in stripe integration</td>\n",
       "      <td>Stripe informed Xero need to change Stripe int...</td>\n",
       "    </tr>\n",
       "    <tr>\n",
       "      <th>4</th>\n",
       "      <td>Vigilant Technologies</td>\n",
       "      <td>Hi Support,\\n\\nPlease advise on the following:...</td>\n",
       "    </tr>\n",
       "  </tbody>\n",
       "</table>\n",
       "</div>"
      ],
      "text/plain": [
       "                                             subject  \\\n",
       "0                                Edit bank statement   \n",
       "1  Link a foreign supplier to a foreign currency ...   \n",
       "2                         Edit User's Email Address?   \n",
       "3               Allow only 3ds in stripe integration   \n",
       "4                              Vigilant Technologies   \n",
       "\n",
       "                                         description  \n",
       "0  Hi Team,\\n\\nI need a healp please call me on t...  \n",
       "1  Hi \\n\\nWe have foreign supplier settle with di...  \n",
       "2  Good afternoon,\\n\\nIs there a way to edit a us...  \n",
       "3  Stripe informed Xero need to change Stripe int...  \n",
       "4  Hi Support,\\n\\nPlease advise on the following:...  "
      ]
     },
     "execution_count": 246,
     "metadata": {},
     "output_type": "execute_result"
    }
   ],
   "source": [
    "data = pd.read_csv('./data/feature_export.csv', usecols=[2,3],\n",
    "                  names=['subject', 'description'],\n",
    "                  header=0,\n",
    "                  encoding='utf-8')\n",
    "\n",
    "data = data.fillna('empty')\n",
    "data.head()"
   ]
  },
  {
   "cell_type": "code",
   "execution_count": 247,
   "metadata": {},
   "outputs": [
    {
     "name": "stdout",
     "output_type": "stream",
     "text": [
      "Example case we want to clean:\n",
      "\n",
      "\n",
      "Good afternoon,\n",
      "\n",
      "Is there a way to edit a users email address? I realize I can delete them\n",
      "and re-add them but I don't want to go through that hassle if I can just\n",
      "edit it.\n",
      "\n",
      "Thank you!\n",
      "\n",
      "Sincerely,\n",
      "\n",
      "*Heather Cotie*\n",
      "\n",
      "Event Coordinator, HR,\n",
      "\n",
      "Social Media, Product Ambassador\n",
      "\n",
      "\n",
      "www.sarafino.com\n",
      "\n",
      "T  905 649 6467 ex. 6732\n",
      "\n",
      "Like us on FACEBOOK <http://www.facebook.com/sarafinoeats>\n",
      "\n",
      "Follow us on TWITTER <http://www.twitter.com/sarafinoeats>\n",
      "\n",
      "Sign up for our NEWSLETTER\n",
      "<http://sarafino.us4.list-manage1.com/subscribe?u=3e3542bde7e8ce3cdb8f28dfb&id=deafbcdceb>\n",
      "\n",
      "Join us on a culinary tour in ITALY\n",
      "<http://sarafino.us4.list-manage1.com/subscribe?u=3e3542bde7e8ce3cdb8f28dfb&id=deafbcdceb>\n"
     ]
    }
   ],
   "source": [
    "print \"Example case we want to clean:\"\n",
    "print\n",
    "print \n",
    "print data.iloc[2]['description']"
   ]
  },
  {
   "cell_type": "code",
   "execution_count": 248,
   "metadata": {},
   "outputs": [
    {
     "data": {
      "text/plain": [
       "0    Hi Team,\\n\\nI need a healp please call me on t...\n",
       "1    Hi \\n\\nWe have foreign supplier settle with di...\n",
       "2    Good afternoon,\\n\\nIs there a way to edit a us...\n",
       "3    Stripe informed Xero need to change Stripe int...\n",
       "4    Hi Support,\\n\\nPlease advise on the following:...\n",
       "Name: description, dtype: object"
      ]
     },
     "execution_count": 248,
     "metadata": {},
     "output_type": "execute_result"
    }
   ],
   "source": [
    "data['description'].head()"
   ]
  },
  {
   "cell_type": "code",
   "execution_count": 249,
   "metadata": {
    "collapsed": true
   },
   "outputs": [],
   "source": [
    "data['description'] = data['description'].str.replace(r'([a-z0-9_\\.-]+)@([\\da-z\\.-]+)\\.([a-z\\.]{2,6})', '') # Removes emails"
   ]
  },
  {
   "cell_type": "code",
   "execution_count": 250,
   "metadata": {},
   "outputs": [],
   "source": [
    "data['description'] = data['description'].str.replace(r'<(.*?)\\>', '') # Needs punct to clean"
   ]
  },
  {
   "cell_type": "code",
   "execution_count": 251,
   "metadata": {
    "collapsed": true
   },
   "outputs": [],
   "source": [
    "data['description'] = data['description'].str.replace(r'[^\\w\\s]', '') "
   ]
  },
  {
   "cell_type": "code",
   "execution_count": 252,
   "metadata": {
    "collapsed": true
   },
   "outputs": [],
   "source": [
    "data['description'] = data['description'].str.replace(r'www[a-z]+', '')"
   ]
  },
  {
   "cell_type": "code",
   "execution_count": 253,
   "metadata": {
    "collapsed": true
   },
   "outputs": [],
   "source": [
    "data['description'] = data['description'].str.replace(r'http[a-z]+', '')"
   ]
  },
  {
   "cell_type": "code",
   "execution_count": 254,
   "metadata": {
    "collapsed": true
   },
   "outputs": [],
   "source": [
    "data['description'] = data['description'].str.replace(r'https[a-z]+', '')"
   ]
  },
  {
   "cell_type": "code",
   "execution_count": 255,
   "metadata": {
    "collapsed": true
   },
   "outputs": [],
   "source": [
    "data['description'] = data['description'].str.replace(r'supportxerocom', '')"
   ]
  },
  {
   "cell_type": "code",
   "execution_count": 256,
   "metadata": {
    "collapsed": true
   },
   "outputs": [],
   "source": [
    "data['description'] = data['description'].str.replace(r'\\d', '') # removes numbers eg phone numbers"
   ]
  },
  {
   "cell_type": "code",
   "execution_count": 257,
   "metadata": {},
   "outputs": [],
   "source": [
    "data['description'] = data['description'].str.lower().str.split()"
   ]
  },
  {
   "cell_type": "code",
   "execution_count": 258,
   "metadata": {
    "collapsed": true
   },
   "outputs": [],
   "source": [
    "# Stem words for better model performance\n",
    "stemmer = SnowballStemmer(\"english\")\n",
    "data['description'] = data['description'].apply(lambda x: [stemmer.stem(y) for y in x])"
   ]
  },
  {
   "cell_type": "code",
   "execution_count": 259,
   "metadata": {
    "collapsed": true
   },
   "outputs": [],
   "source": [
    "# Remove stopwords from text using NLTK.\n",
    "stop = stopwords.words('english')\n",
    "stop = stopwords.words('english')\n",
    "stop.append('hello')\n",
    "stop.append('hi')\n",
    "stop.append('dear')\n",
    "stop.append('sir')\n",
    "stop.append('sirs')\n",
    "stop.append('thank')\n",
    "stop.append('facebook')\n",
    "stop.append('twitter')\n",
    "stop.append('linkedin') # Newly added"
   ]
  },
  {
   "cell_type": "code",
   "execution_count": 260,
   "metadata": {
    "collapsed": true
   },
   "outputs": [],
   "source": [
    "data['description'] = data['description'].apply(lambda x: [item for item in x if item not in stop])"
   ]
  },
  {
   "cell_type": "code",
   "execution_count": 261,
   "metadata": {},
   "outputs": [
    {
     "name": "stdout",
     "output_type": "stream",
     "text": [
      "[u'good', u'afternoon', u'way', u'edit', u'user', u'email', u'address', u'realiz', u'delet', u'readd', u'dont', u'want', u'go', u'hassl', u'edit', u'sincer', u'heather', u'coti', u'event', u'coordin', u'hr', u'social', u'media', u'product', u'ambassador', u'ex', u'like', u'us', u'follow', u'us', u'sign', u'newslett', u'join', u'us', u'culinari', u'tour', u'itali']\n"
     ]
    }
   ],
   "source": [
    "print data.iloc[2]['description']"
   ]
  },
  {
   "cell_type": "code",
   "execution_count": 262,
   "metadata": {
    "collapsed": true
   },
   "outputs": [],
   "source": [
    "#data.to_csv('./data/cleaned_feature.csv',\n",
    "#           encoding='utf-8')"
   ]
  },
  {
   "cell_type": "code",
   "execution_count": 266,
   "metadata": {},
   "outputs": [
    {
     "data": {
      "text/html": [
       "<div>\n",
       "<style scoped>\n",
       "    .dataframe tbody tr th:only-of-type {\n",
       "        vertical-align: middle;\n",
       "    }\n",
       "\n",
       "    .dataframe tbody tr th {\n",
       "        vertical-align: top;\n",
       "    }\n",
       "\n",
       "    .dataframe thead th {\n",
       "        text-align: right;\n",
       "    }\n",
       "</style>\n",
       "<table border=\"1\" class=\"dataframe\">\n",
       "  <thead>\n",
       "    <tr style=\"text-align: right;\">\n",
       "      <th></th>\n",
       "      <th>description</th>\n",
       "    </tr>\n",
       "  </thead>\n",
       "  <tbody>\n",
       "    <tr>\n",
       "      <th>0</th>\n",
       "      <td>team need healp pleas call</td>\n",
       "    </tr>\n",
       "    <tr>\n",
       "      <th>1</th>\n",
       "      <td>foreign supplier settl differ foreign currenc ...</td>\n",
       "    </tr>\n",
       "    <tr>\n",
       "      <th>2</th>\n",
       "      <td>good afternoon way edit user email address rea...</td>\n",
       "    </tr>\n",
       "    <tr>\n",
       "      <th>3</th>\n",
       "      <td>stripe inform xero need chang stripe integr on...</td>\n",
       "    </tr>\n",
       "    <tr>\n",
       "      <th>4</th>\n",
       "      <td>support pleas advis follow tri connect dbs dir...</td>\n",
       "    </tr>\n",
       "  </tbody>\n",
       "</table>\n",
       "</div>"
      ],
      "text/plain": [
       "                                         description\n",
       "0                         team need healp pleas call\n",
       "1  foreign supplier settl differ foreign currenc ...\n",
       "2  good afternoon way edit user email address rea...\n",
       "3  stripe inform xero need chang stripe integr on...\n",
       "4  support pleas advis follow tri connect dbs dir..."
      ]
     },
     "execution_count": 266,
     "metadata": {},
     "output_type": "execute_result"
    }
   ],
   "source": [
    "cleaned = pd.read_csv('./data/final_feature.csv', usecols=[1],\n",
    "                     header=0)\n",
    "\n",
    "cleaned = cleaned.fillna('empty')\n",
    "\n",
    "cleaned.head()"
   ]
  },
  {
   "cell_type": "markdown",
   "metadata": {},
   "source": [
    "# K-Means Clustering"
   ]
  },
  {
   "cell_type": "code",
   "execution_count": 305,
   "metadata": {},
   "outputs": [],
   "source": [
    "# Setup Vector\n",
    "vectorizer = TfidfVectorizer(max_df=0.9,\n",
    "                            min_df=2)\n",
    "X = vectorizer.fit_transform(cleaned['description'])"
   ]
  },
  {
   "cell_type": "code",
   "execution_count": 306,
   "metadata": {},
   "outputs": [
    {
     "data": {
      "text/plain": [
       "(2380, 3117)"
      ]
     },
     "execution_count": 306,
     "metadata": {},
     "output_type": "execute_result"
    }
   ],
   "source": [
    "X.shape"
   ]
  },
  {
   "cell_type": "markdown",
   "metadata": {},
   "source": [
    "Even by setting min_df=2 we drop the # of features from 13,000 to 4175. This saves on a lot of text cleaning."
   ]
  },
  {
   "cell_type": "code",
   "execution_count": 307,
   "metadata": {},
   "outputs": [
    {
     "data": {
      "text/plain": [
       "KMeans(algorithm='auto', copy_x=True, init='k-means++', max_iter=300,\n",
       "    n_clusters=8, n_init=10, n_jobs=1, precompute_distances='auto',\n",
       "    random_state=None, tol=0.0001, verbose=0)"
      ]
     },
     "execution_count": 307,
     "metadata": {},
     "output_type": "execute_result"
    }
   ],
   "source": [
    "true_k = 8 ## Randomly set to 8. Play around with clusters at later stage\n",
    "model = KMeans(n_clusters=true_k, init='k-means++', max_iter=300)\n",
    "model.fit(X)"
   ]
  },
  {
   "cell_type": "code",
   "execution_count": 308,
   "metadata": {},
   "outputs": [
    {
     "name": "stdout",
     "output_type": "stream",
     "text": [
      "Top terms per cluster:\n",
      "Cluster 0:  email  ani  intend  messag  confidenti  inform  recipi  may  pleas  copi\n",
      "Cluster 1:  payment  invoic  batch  bill  bank  account  pay  await  show  supplier\n",
      "Cluster 2:  bank  transact  account  reconcil  feed  rule  code  xero  statement  import\n",
      "Cluster 3:  report  show  run  month  date  would  get  custom  way  xero\n",
      "Cluster 4:  xero  would  account  client  way  use  regard  pleas  like  possibl\n",
      "Cluster 5:  invoic  custom  sale  order  way  number  purchas  xero  date  would\n",
      "Cluster 6:  email  send  quot  invoic  address  custom  xero  contact  sent  way\n",
      "Cluster 7:  version  iphon  app  os  model  languag  usernam  ui  organis  name\n",
      "\n",
      "\n",
      "Prediction\n",
      "[4]\n",
      "[2]\n",
      "[3]\n"
     ]
    }
   ],
   "source": [
    "print(\"Top terms per cluster:\")\n",
    "order_centroids = model.cluster_centers_.argsort()[:, ::-1]\n",
    "terms = vectorizer.get_feature_names()\n",
    "for i in range(true_k):\n",
    "    print(\"Cluster %d:\" % i),\n",
    "    for ind in order_centroids[i, :10]:\n",
    "        print(' %s' % terms[ind]),\n",
    "    print\n",
    "\n",
    "\n",
    "print(\"\\n\")\n",
    "print(\"Prediction\")\n",
    "\n",
    "Y = vectorizer.transform([\"invoice needs bigger logo\"])\n",
    "prediction = model.predict(Y)\n",
    "print(prediction)\n",
    "\n",
    "Y = vectorizer.transform([\"bank transaction doesn't have abiliy to edit\"])\n",
    "prediction = model.predict(Y)\n",
    "print(prediction)\n",
    "\n",
    "Y = vectorizer.transform([\"report with custom running balance\"])\n",
    "prediction = model.predict(Y)\n",
    "print(prediction)"
   ]
  },
  {
   "cell_type": "code",
   "execution_count": 309,
   "metadata": {},
   "outputs": [
    {
     "data": {
      "text/plain": [
       "array([4, 4, 4, ..., 5, 5, 4])"
      ]
     },
     "execution_count": 309,
     "metadata": {},
     "output_type": "execute_result"
    }
   ],
   "source": [
    "k_means_labels = model.labels_\n",
    "k_means_labels"
   ]
  },
  {
   "cell_type": "code",
   "execution_count": 310,
   "metadata": {},
   "outputs": [
    {
     "data": {
      "text/plain": [
       "{0: 184, 1: 132, 2: 235, 3: 246, 4: 1001, 5: 379, 6: 164, 7: 39}"
      ]
     },
     "execution_count": 310,
     "metadata": {},
     "output_type": "execute_result"
    }
   ],
   "source": [
    "unique, counts = np.unique(k_means_labels, return_counts=True)\n",
    "dict(zip(unique, counts))"
   ]
  },
  {
   "cell_type": "code",
   "execution_count": 311,
   "metadata": {},
   "outputs": [
    {
     "data": {
      "image/png": "[encoded data removed]",
      "text/plain": [
       "<matplotlib.figure.Figure at 0x2de54828>"
      ]
     },
     "metadata": {},
     "output_type": "display_data"
    }
   ],
   "source": [
    "plt.pie(counts, labels=unique)\n",
    "plt.title('Counts of Clusters')\n",
    "plt.show()"
   ]
  },
  {
   "cell_type": "markdown",
   "metadata": {},
   "source": [
    "# Hierarchical Clustering"
   ]
  },
  {
   "cell_type": "code",
   "execution_count": 288,
   "metadata": {
    "collapsed": true
   },
   "outputs": [],
   "source": [
    "from sklearn.cluster import AgglomerativeClustering"
   ]
  },
  {
   "cell_type": "code",
   "execution_count": 289,
   "metadata": {
    "collapsed": true
   },
   "outputs": [],
   "source": [
    "clustering = AgglomerativeClustering(linkage='ward', n_clusters=8)"
   ]
  },
  {
   "cell_type": "code",
   "execution_count": 290,
   "metadata": {
    "collapsed": true
   },
   "outputs": [],
   "source": [
    "result_clustering = clustering.fit(X.toarray())"
   ]
  },
  {
   "cell_type": "code",
   "execution_count": 291,
   "metadata": {
    "collapsed": true
   },
   "outputs": [],
   "source": [
    "cluster_labels = clustering.labels_"
   ]
  },
  {
   "cell_type": "code",
   "execution_count": 292,
   "metadata": {},
   "outputs": [
    {
     "data": {
      "text/plain": [
       "array([3, 3, 3, ..., 0, 3, 3], dtype=int64)"
      ]
     },
     "execution_count": 292,
     "metadata": {},
     "output_type": "execute_result"
    }
   ],
   "source": [
    "cluster_labels"
   ]
  },
  {
   "cell_type": "code",
   "execution_count": 293,
   "metadata": {},
   "outputs": [
    {
     "data": {
      "text/plain": [
       "{0: 563, 1: 58, 2: 84, 3: 1143, 4: 173, 5: 36, 6: 167, 7: 156}"
      ]
     },
     "execution_count": 293,
     "metadata": {},
     "output_type": "execute_result"
    }
   ],
   "source": [
    "unique, counts = np.unique(cluster_labels, return_counts=True)\n",
    "dict(zip(unique, counts))"
   ]
  },
  {
   "cell_type": "code",
   "execution_count": 294,
   "metadata": {},
   "outputs": [
    {
     "data": {
      "image/png": "[encoded data removed]",
      "text/plain": [
       "<matplotlib.figure.Figure at 0x2d42f080>"
      ]
     },
     "metadata": {},
     "output_type": "display_data"
    }
   ],
   "source": [
    "plt.pie(counts, labels=unique)\n",
    "plt.title('Counts of Clusters')\n",
    "plt.show()"
   ]
  },
  {
   "cell_type": "markdown",
   "metadata": {
    "collapsed": true
   },
   "source": [
    "# Non-negative Matrix Factorisation"
   ]
  },
  {
   "cell_type": "markdown",
   "metadata": {},
   "source": [
    "The data in the form of a TF-IDF vector is naturally no negative as it's essentially just the word frequencies in Cases."
   ]
  },
  {
   "cell_type": "code",
   "execution_count": 313,
   "metadata": {
    "collapsed": true
   },
   "outputs": [],
   "source": [
    "def display_topics(model, feature_names, top_words):\n",
    "    \"\"\"\n",
    "    Function to print the top words of a given topic given a model\n",
    "    \"\"\"\n",
    "    for topic_idx, topic in enumerate(model.components_):\n",
    "        print \"Topic %d:\" % (topic_idx)\n",
    "        print \" \".join([feature_names[i]\n",
    "                        for i in topic.argsort()[:-top_words - 1:-1]])"
   ]
  },
  {
   "cell_type": "code",
   "execution_count": 314,
   "metadata": {
    "collapsed": true
   },
   "outputs": [],
   "source": [
    "from sklearn.decomposition import NMF"
   ]
  },
  {
   "cell_type": "code",
   "execution_count": 318,
   "metadata": {
    "collapsed": true
   },
   "outputs": [],
   "source": [
    "nmf = NMF(n_components= 8,\n",
    "          alpha=0.1)"
   ]
  },
  {
   "cell_type": "code",
   "execution_count": 319,
   "metadata": {},
   "outputs": [
    {
     "data": {
      "text/plain": [
       "NMF(alpha=0.1, beta_loss='frobenius', init=None, l1_ratio=0.0, max_iter=200,\n",
       "  n_components=8, random_state=None, shuffle=False, solver='cd',\n",
       "  tol=0.0001, verbose=0)"
      ]
     },
     "execution_count": 319,
     "metadata": {},
     "output_type": "execute_result"
    }
   ],
   "source": [
    "nmf.fit(X)"
   ]
  },
  {
   "cell_type": "code",
   "execution_count": 320,
   "metadata": {
    "scrolled": true
   },
   "outputs": [
    {
     "name": "stdout",
     "output_type": "stream",
     "text": [
      "Topic 0:\n",
      "xero client would file regard like use user access pleas help know possibl kind want\n",
      "Topic 1:\n",
      "email ani intend messag inform recipi confidenti pleas may attach copi contain receiv error notifi\n",
      "Topic 2:\n",
      "invoic custom payment sale send way date quot creat number email paid pay approv show\n",
      "Topic 3:\n",
      "report show run date month balanc custom get includ age period year see total sheet\n",
      "Topic 4:\n",
      "version app iphon ui os model languag usernam organis name devic deivc sent engb android\n",
      "Topic 5:\n",
      "account bank transact payment reconcil feed statement rule balanc credit show import code want card\n",
      "Topic 6:\n",
      "item line code descript inventori enter field add track would one default price column sale\n",
      "Topic 7:\n",
      "order purchas bill supplier number way approv alphabet date enter sale creat po deliveri month\n"
     ]
    }
   ],
   "source": [
    "tfidf_feature_names = vectorizer.get_feature_names()\n",
    "display_topics(nmf, tfidf_feature_names, top_words=15)"
   ]
  },
  {
   "cell_type": "code",
   "execution_count": null,
   "metadata": {
    "collapsed": true
   },
   "outputs": [],
   "source": []
  }
 ],
 "metadata": {
  "kernelspec": {
   "display_name": "Python 2",
   "language": "python",
   "name": "python2"
  },
  "language_info": {
   "codemirror_mode": {
    "name": "ipython",
    "version": 2
   },
   "file_extension": ".py",
   "mimetype": "text/x-python",
   "name": "python",
   "nbconvert_exporter": "python",
   "pygments_lexer": "ipython2",
   "version": "2.7.14"
  }
 },
 "nbformat": 4,
 "nbformat_minor": 2
}
