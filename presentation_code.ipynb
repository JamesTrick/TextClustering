{
 "cells": [
  {
   "cell_type": "code",
   "execution_count": null,
   "metadata": {
    "collapsed": true,
    "slideshow": {
     "slide_type": "skip"
    }
   },
   "outputs": [],
   "source": [
    "\"\"\"\n",
    "To generate these slides, in a command prompt type:\n",
    "\n",
    "jupyter nbconvert presentation_slides.ipynb --to slides --post serve\n",
    "\"\"\""
   ]
  },
  {
   "cell_type": "markdown",
   "metadata": {
    "slideshow": {
     "slide_type": "slide"
    }
   },
   "source": [
    "# I'm James...\n",
    "### A Senior Accounting Support Specialist at Xero"
   ]
  },
  {
   "cell_type": "markdown",
   "metadata": {
    "slideshow": {
     "slide_type": "slide"
    }
   },
   "source": [
    "# Text Clustering within an Email Support Environment"
   ]
  },
  {
   "cell_type": "markdown",
   "metadata": {
    "slideshow": {
     "slide_type": "fragment"
    }
   },
   "source": [
    "Knowledge is how we answer cases. Knowledge is created with humans predicting what questions will be asked, and the on an as-needed basis."
   ]
  },
  {
   "cell_type": "markdown",
   "metadata": {
    "slideshow": {
     "slide_type": "fragment"
    }
   },
   "source": [
    "With a 'as needed basis' agents become opt for quick over improvement so the hypothesis is that we have large Knowledge articles comprising of multiple topics."
   ]
  },
  {
   "cell_type": "markdown",
   "metadata": {
    "slideshow": {
     "slide_type": "fragment"
    }
   },
   "source": [
    "The solution is to use Text Clustering and Topic Identification to extract these topics."
   ]
  },
  {
   "cell_type": "markdown",
   "metadata": {
    "slideshow": {
     "slide_type": "slide"
    }
   },
   "source": [
    "## The Pipeline\n",
    "\n",
    "* Get Data\n",
    "* Clean the data - using regex\n",
    "* Dimension reduction?\n",
    "* Fit KMeans\n",
    "* Generate labels\n",
    "* Happy (hopefully) days"
   ]
  },
  {
   "cell_type": "code",
   "execution_count": 3,
   "metadata": {
    "collapsed": true,
    "slideshow": {
     "slide_type": "subslide"
    }
   },
   "outputs": [],
   "source": [
    "# Imports here\n",
    "import pandas as pd\n",
    "import numpy as np\n",
    "import matplotlib.pyplot as plt\n",
    "import pprint\n",
    "import nltk\n",
    "import re\n",
    "\n",
    "from nltk.collocations import *\n",
    "from nltk.tokenize import word_tokenize\n",
    "from sklearn.feature_extraction.text import TfidfVectorizer\n",
    "from sklearn.cluster import KMeans\n",
    "from nltk.corpus import stopwords\n",
    "from nltk.stem.snowball import SnowballStemmer\n",
    "\n",
    "% matplotlib inline"
   ]
  },
  {
   "cell_type": "code",
   "execution_count": 5,
   "metadata": {
    "collapsed": true,
    "slideshow": {
     "slide_type": "skip"
    }
   },
   "outputs": [],
   "source": [
    "cleaned = pd.read_csv('./data/final_feature.csv', usecols=[1],\n",
    "                     header=0)\n",
    "\n",
    "cleaned = cleaned.fillna('empty')"
   ]
  },
  {
   "cell_type": "markdown",
   "metadata": {
    "collapsed": true,
    "slideshow": {
     "slide_type": "slide"
    }
   },
   "source": [
    "## Cleaning, there's a Quote...\n",
    "\n",
    "Some people, when confronted with a problem, think \"I know, I'll use regular expressions.\" Now they have two problems."
   ]
  },
  {
   "cell_type": "code",
   "execution_count": null,
   "metadata": {
    "collapsed": true,
    "slideshow": {
     "slide_type": "subslide"
    }
   },
   "outputs": [],
   "source": [
    "data['description'] = data['description'].str.replace(r'([a-z0-9_\\.-]+)@([\\da-z\\.-]+)\\.([a-z\\.]{2,6})', '') # Removes emails\n",
    "data['description'] = data['description'].str.replace(r'<(.*?)\\>', '') # Needs punct to clean\n",
    "data['description'] = data['description'].str.replace(r'[^\\w\\s]', '') \n",
    "data['description'] = data['description'].str.replace(r'www[a-z]+', '')\n",
    "data['description'] = data['description'].str.replace(r'http[a-z]+', '')\n",
    "data['description'] = data['description'].str.replace(r'https[a-z]+', '')\n",
    "data['description'] = data['description'].str.replace(r'supportxerocom', '')\n",
    "data['description'] = data['description'].str.replace(r'\\d', '') # removes numbers eg phone numbers"
   ]
  },
  {
   "cell_type": "code",
   "execution_count": null,
   "metadata": {
    "collapsed": true,
    "slideshow": {
     "slide_type": "subslide"
    }
   },
   "outputs": [],
   "source": [
    "data['description'] = data['description'].str.lower().str.split() # Split data\n",
    "\n",
    "# Remove stopwords from text using NLTK\n",
    "stop = stopwords.words('english')\n",
    "stop.append('hello')\n",
    "stop.append('hi')\n",
    "stop.append('dear')\n",
    "stop.append('sir')\n",
    "stop.append('sirs')\n",
    "stop.append('thank')\n",
    "stop.append('facebook')\n",
    "stop.append('twitter')\n",
    "stop.append('linkedin') # Newly added\n",
    "\n",
    "data['description'] = data['description'].apply(lambda x: [item for item in x if item not in stop])\n",
    "\n",
    "# Stem words for better model performance\n",
    "stemmer = SnowballStemmer(\"english\")\n",
    "data['description'] = data['description'].apply(lambda x: [stemmer.stem(y) for y in x])"
   ]
  },
  {
   "cell_type": "markdown",
   "metadata": {
    "collapsed": true,
    "slideshow": {
     "slide_type": "slide"
    }
   },
   "source": [
    "# Vectorise\n",
    "### TF-IDF Vector"
   ]
  },
  {
   "cell_type": "code",
   "execution_count": 6,
   "metadata": {
    "collapsed": true,
    "slideshow": {
     "slide_type": "subslide"
    }
   },
   "outputs": [],
   "source": [
    "# Setup Vector\n",
    "vectorizer = TfidfVectorizer(max_df=0.9,\n",
    "                            min_df=0.001)\n",
    "X = vectorizer.fit_transform(cleaned['description'])"
   ]
  },
  {
   "cell_type": "markdown",
   "metadata": {
    "slideshow": {
     "slide_type": "slide"
    }
   },
   "source": [
    "# Clustering\n",
    "### K-Means Clustering "
   ]
  },
  {
   "cell_type": "code",
   "execution_count": 41,
   "metadata": {
    "slideshow": {
     "slide_type": "subslide"
    }
   },
   "outputs": [
    {
     "name": "stdout",
     "output_type": "stream",
     "text": [
      "Top terms per cluster:\n",
      "Cluster 0:  budget  varianc  report  actual  track  year  manag  show  one  drop\n",
      "Cluster 1:  employe  payrol  leav  hour  xero  pay  timesheet  staff  client  set\n",
      "Cluster 2:  email  ani  intend  messag  confidenti  inform  recipi  may  pleas  copi\n",
      "Cluster 3:  date  month  year  report  invoic  end  due  transact  chang  enter\n",
      "Cluster 4:  payment  invoic  batch  await  account  show  pay  bank  supplier  credit\n",
      "Cluster 5:  field  custom  add  possibl  descript  refer  invoic  name  column  would\n",
      "Cluster 6:  invoic  email  send  custom  xero  address  way  client  like  sent\n",
      "Cluster 7:  file  xero  export  upload  import  csv  attach  invoic  direct  use\n",
      "Cluster 8:  xero  client  user  featur  account  access  use  see  pleas  would\n",
      "Cluster 9:  invoic  would  account  xero  regard  possibl  way  pleas  like  need\n",
      "Cluster 10:  item  line  invoic  inventori  price  code  sale  cost  way  default\n",
      "Cluster 11:  bank  transact  account  reconcil  feed  rule  code  xero  see  receipt\n",
      "Cluster 12:  number  invoic  refer  xero  use  account  contact  way  import  enter\n",
      "Cluster 13:  version  app  iphon  model  os  languag  usernam  ui  organis  name\n",
      "Cluster 14:  bill  approv  pdf  invoic  save  print  enter  draft  xero  attach\n",
      "Cluster 15:  statement  balanc  bank  custom  show  credit  send  xero  account  client\n",
      "Cluster 16:  order  purchas  invoic  supplier  sale  bill  number  alphabet  deliveri  xero\n",
      "Cluster 17:  imag  inlin  xero  email  account  pleas  ani  manag  mobil  show\n",
      "Cluster 18:  day  repeat  invoic  set  date  one  time  last  would  onli\n",
      "Cluster 19:  expens  billabl  claim  assign  account  code  invoic  custom  bill  receipt\n",
      "Cluster 20:  quot  invoic  way  etc  option  custom  send  email  copi  would\n",
      "Cluster 21:  report  run  show  custom  get  balanc  would  invoic  like  xero\n",
      "\n",
      "\n",
      "Prediction\n",
      "[9]\n",
      "[11]\n",
      "[21]\n"
     ]
    }
   ],
   "source": [
    "true_k = 22 ## Randomly set to 8. Play around with clusters at later stage\n",
    "model = KMeans(n_clusters=true_k, init='k-means++', max_iter=300)\n",
    "model.fit(X)\n",
    "\n",
    "print(\"Top terms per cluster:\")\n",
    "order_centroids = model.cluster_centers_.argsort()[:, ::-1]\n",
    "terms = vectorizer.get_feature_names()\n",
    "for i in range(true_k):\n",
    "    print(\"Cluster %d:\" % i),\n",
    "    for ind in order_centroids[i, :10]:\n",
    "        print(' %s' % terms[ind]),\n",
    "    print\n",
    "\n",
    "\n",
    "print(\"\\n\")\n",
    "print(\"Prediction\")\n",
    "\n",
    "Y = vectorizer.transform([\"invoice needs bigger logo\"])\n",
    "prediction = model.predict(Y)\n",
    "print prediction\n",
    "\n",
    "Y = vectorizer.transform([\"bank transaction doesn't have abiliy to edit\"])\n",
    "prediction = model.predict(Y)\n",
    "print prediction\n",
    "\n",
    "Y = vectorizer.transform([\"report with custom running balance\"])\n",
    "prediction = model.predict(Y)\n",
    "print prediction"
   ]
  },
  {
   "cell_type": "code",
   "execution_count": 42,
   "metadata": {
    "slideshow": {
     "slide_type": "skip"
    }
   },
   "outputs": [
    {
     "data": {
      "text/plain": [
       "{0: 25,\n",
       " 1: 60,\n",
       " 2: 175,\n",
       " 3: 90,\n",
       " 4: 94,\n",
       " 5: 77,\n",
       " 6: 172,\n",
       " 7: 94,\n",
       " 8: 244,\n",
       " 9: 439,\n",
       " 10: 88,\n",
       " 11: 166,\n",
       " 12: 82,\n",
       " 13: 39,\n",
       " 14: 64,\n",
       " 15: 63,\n",
       " 16: 69,\n",
       " 17: 44,\n",
       " 18: 35,\n",
       " 19: 63,\n",
       " 20: 38,\n",
       " 21: 159}"
      ]
     },
     "execution_count": 42,
     "metadata": {},
     "output_type": "execute_result"
    }
   ],
   "source": [
    "k_means_labels = model.labels_\n",
    "unique, counts = np.unique(k_means_labels, return_counts=True)\n",
    "dict(zip(unique, counts))"
   ]
  },
  {
   "cell_type": "code",
   "execution_count": 43,
   "metadata": {
    "slideshow": {
     "slide_type": "slide"
    }
   },
   "outputs": [
    {
     "data": {
      "image/png": "[encoded data removed]",
      "text/plain": [
       "<matplotlib.figure.Figure at 0x1eee1b00>"
      ]
     },
     "metadata": {},
     "output_type": "display_data"
    }
   ],
   "source": [
    "plt.pie(counts, labels=unique)\n",
    "plt.title('Counts of Clusters')\n",
    "plt.show()"
   ]
  },
  {
   "cell_type": "markdown",
   "metadata": {
    "slideshow": {
     "slide_type": "slide"
    }
   },
   "source": [
    "# K-Means Bigram Clustering\n",
    "\n",
    "An attempt to capture semantic relationships between words. \n",
    "\n",
    "Research from KHL University, Sweden, suggested doing this leads to better model performance."
   ]
  },
  {
   "cell_type": "markdown",
   "metadata": {
    "slideshow": {
     "slide_type": "subslide"
    }
   },
   "source": [
    "# The results... Were unexpected.\n",
    "\n",
    "<style type=\"text/css\">\n",
    ".tg  {border-collapse:collapse;border-spacing:0;border-color:#999;}\n",
    ".tg td{font-family:Arial, sans-serif;font-size:14px;padding:10px 5px;border-style:solid;border-width:1px;overflow:hidden;word-break:normal;border-color:#999;color:#444;background-color:#F7FDFA;}\n",
    ".tg th{font-family:Arial, sans-serif;font-size:14px;font-weight:normal;padding:10px 5px;border-style:solid;border-width:1px;overflow:hidden;word-break:normal;border-color:#999;color:#fff;background-color:#26ADE4;}\n",
    ".tg .tg-vn4c{background-color:#D2E4FC}\n",
    ".tg .tg-e3zv{font-weight:bold}\n",
    ".tg .tg-9hbo{font-weight:bold;vertical-align:top}\n",
    ".tg .tg-6k2t{background-color:#D2E4FC;vertical-align:top}\n",
    ".tg .tg-yw4l{vertical-align:top}\n",
    "</style>\n",
    "<table class=\"tg\">\n",
    "  <tr>\n",
    "    <th class=\"tg-e3zv\"># of Clusters</th>\n",
    "    <th class=\"tg-9hbo\">Single Word</th>\n",
    "    <th class=\"tg-9hbo\">Bi-gram Model</th>\n",
    "  </tr>\n",
    "  <tr>\n",
    "    <td class=\"tg-6k2t\">8</td>\n",
    "    <td class=\"tg-6k2t\">0.0135</td>\n",
    "    <td class=\"tg-6k2t\">0.0112</td>\n",
    "  </tr>\n",
    "  <tr>\n",
    "    <td class=\"tg-031e\">10</td>\n",
    "    <td class=\"tg-yw4l\">0.0145</td>\n",
    "    <td class=\"tg-yw4l\">0.0118</td>\n",
    "  </tr>\n",
    "  <tr>\n",
    "    <td class=\"tg-vn4c\">15</td>\n",
    "    <td class=\"tg-6k2t\">0.0174</td>\n",
    "    <td class=\"tg-6k2t\">0.0127</td>\n",
    "  </tr>\n",
    "  <tr>\n",
    "    <td class=\"tg-031e\">20</td>\n",
    "    <td class=\"tg-yw4l\">0.0203</td>\n",
    "    <td class=\"tg-yw4l\">0.0146</td>\n",
    "  </tr>\n",
    "  <tr>\n",
    "    <td class=\"tg-vn4c\">25</td>\n",
    "    <td class=\"tg-6k2t\">0.0200</td>\n",
    "    <td class=\"tg-6k2t\">0.1507</td>\n",
    "  </tr>\n",
    "  <tr>\n",
    "    <td class=\"tg-yw4l\">30</td>\n",
    "    <td class=\"tg-yw4l\">0.0172</td>\n",
    "    <td class=\"tg-yw4l\">0.0125</td>\n",
    "  </tr>\n",
    "  <tr>\n",
    "    <td class=\"tg-6k2t\">35</td>\n",
    "    <td class=\"tg-6k2t\">0.0189</td>\n",
    "    <td class=\"tg-6k2t\">0.0140</td>\n",
    "  </tr>\n",
    "  <tr>\n",
    "    <td class=\"tg-yw4l\">40</td>\n",
    "    <td class=\"tg-yw4l\">0.0210</td>\n",
    "    <td class=\"tg-yw4l\">0.0142</td>\n",
    "  </tr>\n",
    "  <tr>\n",
    "    <td class=\"tg-6k2t\">45</td>\n",
    "    <td class=\"tg-6k2t\">0.0179</td>\n",
    "    <td class=\"tg-6k2t\">0.0135</td>\n",
    "  </tr>\n",
    "</table>"
   ]
  },
  {
   "cell_type": "markdown",
   "metadata": {
    "slideshow": {
     "slide_type": "slide"
    }
   },
   "source": [
    "# Going Forward\n",
    "\n",
    "This is a relatively big break-through increasing our reporting capabilities as well as making it easier for CX agents to work. Either by creating new KAs, or allowing these large, general KAs to continue being used."
   ]
  },
  {
   "cell_type": "markdown",
   "metadata": {
    "slideshow": {
     "slide_type": "fragment"
    }
   },
   "source": [
    "Work started using similar process are:\n",
    "* NPS Comments, classification and prediction of new datasets (Labelled data - yes!!!)"
   ]
  },
  {
   "cell_type": "markdown",
   "metadata": {
    "slideshow": {
     "slide_type": "fragment"
    }
   },
   "source": [
    "* Clustering on Xero Love comments"
   ]
  },
  {
   "cell_type": "markdown",
   "metadata": {
    "slideshow": {
     "slide_type": "fragment"
    }
   },
   "source": [
    "* Same algo/process on 'How to add or edit a DOCX theme?' KA to identify main short-comings of Standard branding themes."
   ]
  },
  {
   "cell_type": "markdown",
   "metadata": {
    "slideshow": {
     "slide_type": "slide"
    }
   },
   "source": [
    "# Fork and Pull it\n",
    "\n",
    "https://github.com/JamesTrick/TextClustering"
   ]
  }
 ],
 "metadata": {
  "celltoolbar": "Slideshow",
  "kernelspec": {
   "display_name": "Python 2",
   "language": "python",
   "name": "python2"
  },
  "language_info": {
   "codemirror_mode": {
    "name": "ipython",
    "version": 2
   },
   "file_extension": ".py",
   "mimetype": "text/x-python",
   "name": "python",
   "nbconvert_exporter": "python",
   "pygments_lexer": "ipython2",
   "version": "2.7.14"
  }
 },
 "nbformat": 4,
 "nbformat_minor": 2
}
